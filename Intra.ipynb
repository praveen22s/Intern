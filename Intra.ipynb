{
 "cells": [
  {
   "cell_type": "code",
   "execution_count": 1,
   "metadata": {},
   "outputs": [],
   "source": [
    "import nltk\n",
    "from nltk.corpus import stopwords\n",
    "from nltk.tokenize import word_tokenize, sent_tokenize\n",
    "import spacy"
   ]
  },
  {
   "cell_type": "code",
   "execution_count": 2,
   "metadata": {},
   "outputs": [
    {
     "name": "stdout",
     "output_type": "stream",
     "text": [
      "[('At', 'IN'), ('the', 'DT'), ('grand', 'JJ'), ('celebration', 'NN'), ('in', 'IN'), ('the', 'DT'), ('city', 'NN'), ('of', 'IN'), ('Arinvale', 'NNP'), (',', ','), ('King', 'NNP'), ('Alaric', 'NNP'), (',', ','), ('alongside', 'RB'), ('Queen', 'NNP'), ('Seraphina', 'NNP'), ('and', 'CC'), ('their', 'PRP$'), ('loyal', 'JJ'), ('advisors', 'NNS'), (',', ','), ('Sir', 'NNP'), ('Cedric', 'NNP'), ('and', 'CC'), ('Lady', 'NNP'), ('Elowen', 'NNP'), (',', ','), ('welcomed', 'VBD'), ('the', 'DT'), ('visiting', 'NN'), ('dignitaries', 'NNS'), (',', ','), ('including', 'VBG'), ('Duke', 'NNP'), ('Ferdinand', 'NNP'), ('of', 'IN'), ('Eldoria', 'NNP'), (',', ','), ('Countess', 'NNP'), ('Isabella', 'NNP'), ('of', 'IN'), ('Lysara', 'NNP'), (',', ','), ('and', 'CC'), ('the', 'DT'), ('enigmatic', 'JJ'), ('sorcerer', 'NN'), (',', ','), ('Thalon', 'NNP'), ('the', 'DT'), ('Wise', 'NNP'), (',', ','), ('all', 'RB'), ('gathered', 'VBD'), ('to', 'TO'), ('forge', 'VB'), ('new', 'JJ'), ('alliances', 'NNS'), ('and', 'CC'), ('celebrate', 'VB'), ('the', 'DT'), ('enduring', 'VBG'), ('peace', 'NN'), ('that', 'WDT'), ('united', 'VBD'), ('their', 'PRP$'), ('diverse', 'JJ'), ('realms', 'NNS'), ('.', '.')]\n"
     ]
    }
   ],
   "source": [
    "nlp = spacy.load(\"en_core_web_sm\")\n",
    "stop_words = set(stopwords.words('french'))\n",
    "\n",
    "text=\"\"\" At the grand celebration in the city of Arinvale , \n",
    "    King Alaric , alongside Queen Seraphina and their loyal advisors, \n",
    "    Sir Cedric and Lady Elowen, welcomed the visiting dignitaries, \n",
    "    including Duke Ferdinand of Eldoria, Countess Isabella of Lysara, \n",
    "    and the enigmatic sorcerer, Thalon the Wise, all gathered to forge new \n",
    "    alliances and celebrate the enduring peace that united their diverse realms.\"\"\"\n",
    "\n",
    "tokenized = sent_tokenize(text)\n",
    "for i in tokenized:\n",
    "\t\n",
    "\n",
    "\twordsList = nltk.word_tokenize(i)\n",
    "\n",
    "\twordsList = [w for w in wordsList ] \n",
    "\n",
    "\ttagged = nltk.pos_tag(wordsList)\n",
    "\n",
    "\tprint(tagged)\n",
    "    \n",
    "    "
   ]
  },
  {
   "cell_type": "code",
   "execution_count": 3,
   "metadata": {},
   "outputs": [
    {
     "name": "stdout",
     "output_type": "stream",
     "text": [
      "<class 'list'>\n"
     ]
    }
   ],
   "source": [
    "print(type(tagged))"
   ]
  },
  {
   "cell_type": "code",
   "execution_count": 4,
   "metadata": {},
   "outputs": [
    {
     "name": "stdout",
     "output_type": "stream",
     "text": [
      "('Arinvale', 'NNP')\n",
      "('King', 'NNP')\n",
      "('Alaric', 'NNP')\n",
      "('Queen', 'NNP')\n",
      "('Seraphina', 'NNP')\n",
      "('Sir', 'NNP')\n",
      "('Cedric', 'NNP')\n",
      "('Lady', 'NNP')\n",
      "('Elowen', 'NNP')\n",
      "('Duke', 'NNP')\n",
      "('Ferdinand', 'NNP')\n",
      "('Eldoria', 'NNP')\n",
      "('Countess', 'NNP')\n",
      "('Isabella', 'NNP')\n",
      "('Lysara', 'NNP')\n",
      "('Thalon', 'NNP')\n",
      "('Wise', 'NNP')\n"
     ]
    }
   ],
   "source": [
    "poss_MC=[]\n",
    "for i in tagged:\n",
    "    if \"NNP\" in i:\n",
    "        print(i)\n",
    "        poss_MC.append(i)\n",
    "        \n"
   ]
  },
  {
   "cell_type": "code",
   "execution_count": 5,
   "metadata": {},
   "outputs": [
    {
     "name": "stdout",
     "output_type": "stream",
     "text": [
      "Seraphina\n",
      "GPE\n",
      "\n",
      "\n",
      "Elowen\n",
      "PERSON\n",
      "\n",
      "\n",
      "Duke\n",
      "ORG\n",
      "\n",
      "\n",
      "Ferdinand\n",
      "ORG\n",
      "\n",
      "\n",
      "Eldoria\n",
      "PERSON\n",
      "\n",
      "\n",
      "Isabella\n",
      "PERSON\n",
      "\n",
      "\n",
      "Lysara\n",
      "PERSON\n",
      "\n",
      "\n",
      "Thalon\n",
      "ORG\n",
      "\n",
      "\n",
      "[Arinvale, King, Alaric, Queen, Seraphina, Sir, Cedric, Lady, Elowen, Duke, Ferdinand, Eldoria, Countess, Isabella, Lysara, Thalon, Wise]\n"
     ]
    }
   ],
   "source": [
    "def find_mc(poss_MC):\n",
    "    docs=[]\n",
    "    for i in poss_MC:\n",
    "        doc=nlp(i[0])\n",
    "        docs.append(doc)\n",
    "    for doc in docs:\n",
    "        if doc.ents:\n",
    "            for ent in doc.ents:\n",
    "                print(ent)\n",
    "                print(ent.label_)\n",
    "                print(\"\\n\")\n",
    "    print (docs)\n",
    "\n",
    "find_mc(poss_MC)"
   ]
  },
  {
   "cell_type": "code",
   "execution_count": 6,
   "metadata": {},
   "outputs": [
    {
     "name": "stdout",
     "output_type": "stream",
     "text": [
      "{'Queen Seraphina': 1, 'Cedric': 1, 'Lady Elowen': 1, 'Countess Isabella': 1}\n",
      "The main character is: Queen Seraphina\n"
     ]
    }
   ],
   "source": [
    "def identify_main_character(text):\n",
    "    text=\"\"\" At the grand celebration in the city of Arinvale ,\n",
    "    King Alaric , alongside Queen Seraphina and their loyal advisors,\n",
    "    Sir Cedric and Lady Elowen, welcomed the visiting dignitaries,\n",
    "    including Duke Ferdinand of Eldoria, Countess Isabella of Lysara,\n",
    "    and the enigmatic sorcerer, Thalon the Wise, all gathered to forge new \n",
    "    alliances and celebrate the enduring peace that united their diverse realms.\"\"\"\n",
    "\n",
    "\n",
    "    doc = nlp(text)\n",
    "    entity_freq = {}\n",
    "    for ent in doc.ents:\n",
    "        if ent.label_ == \"PERSON\":\n",
    "            if ent.text in entity_freq:\n",
    "                entity_freq[ent.text] += 1\n",
    "            else:\n",
    "                entity_freq[ent.text] = 1\n",
    "\n",
    "    main_character = max(entity_freq, key=entity_freq.get) if entity_freq else None\n",
    "    \n",
    "    print( entity_freq )\n",
    "\n",
    "    return main_character\n",
    "\n",
    "\n",
    "main_character = identify_main_character(text)\n",
    "print(f\"The main character is: {main_character}\")"
   ]
  },
  {
   "cell_type": "code",
   "execution_count": null,
   "metadata": {},
   "outputs": [],
   "source": []
  }
 ],
 "metadata": {
  "kernelspec": {
   "display_name": "base",
   "language": "python",
   "name": "python3"
  },
  "language_info": {
   "codemirror_mode": {
    "name": "ipython",
    "version": 3
   },
   "file_extension": ".py",
   "mimetype": "text/x-python",
   "name": "python",
   "nbconvert_exporter": "python",
   "pygments_lexer": "ipython3",
   "version": "3.10.14"
  }
 },
 "nbformat": 4,
 "nbformat_minor": 2
}
